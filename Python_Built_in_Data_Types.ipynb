{
  "nbformat": 4,
  "nbformat_minor": 0,
  "metadata": {
    "colab": {
      "provenance": [],
      "authorship_tag": "ABX9TyOX2u/X+W+HPnpf3RctSERB",
      "include_colab_link": true
    },
    "kernelspec": {
      "name": "python3",
      "display_name": "Python 3"
    },
    "language_info": {
      "name": "python"
    }
  },
  "cells": [
    {
      "cell_type": "markdown",
      "metadata": {
        "id": "view-in-github",
        "colab_type": "text"
      },
      "source": [
        "<a href=\"https://colab.research.google.com/github/mariasayo/CPEN21A-PLD-/blob/main/Python_Built_in_Data_Types.ipynb\" target=\"_parent\"><img src=\"https://colab.research.google.com/assets/colab-badge.svg\" alt=\"Open In Colab\"/></a>"
      ]
    },
    {
      "cell_type": "code",
      "execution_count": null,
      "metadata": {
        "colab": {
          "base_uri": "https://localhost:8080/"
        },
        "id": "5IAFaVja2adq",
        "outputId": "1379a910-8d69-4d7b-a428-8c631a2f735f"
      },
      "outputs": [
        {
          "output_type": "stream",
          "name": "stdout",
          "text": [
            "My personal info are all here\n"
          ]
        }
      ],
      "source": [
        "class Person:\n",
        "  def __init__(self,name,age,birthdate):       #object and class constructor\n",
        "    self.name = name\n",
        "    self.age = age\n",
        "    self.birthdate = birthdate\n",
        "\n",
        "  def info(self):                 \n",
        "    return \"My personal info are all here\"      #method constructor\n",
        "\n",
        "class Student(Person):                          #inheritance\n",
        "  pass\n",
        "\n",
        "person = Student(\"Ana\", 28,\"January 4, 1996\")     #naming object\n",
        "\n",
        "print(person.info())\n",
        "\n",
        "  "
      ]
    },
    {
      "cell_type": "code",
      "source": [
        "#Exercise 1\n",
        "# Write a Python program that:\n",
        "# Use Shape as parent class, Rectangle as child class with length and width attributes\n",
        "# Use Perimeter() and Area() as methods to compute for the perimeter and area of the rectangle "
      ],
      "metadata": {
        "id": "NL-2PEsaEP-T"
      },
      "execution_count": null,
      "outputs": []
    },
    {
      "cell_type": "code",
      "source": [
        "#Python Built-n Data Types - Dictionaries\n",
        "thisdict = {\n",
        "            \"name\": \"Maria\",\n",
        "            \"age\": 39,\n",
        "            \"bday\": \"April 10, 1983\"\n",
        "\n",
        "            }\n",
        "print(thisdict)"
      ],
      "metadata": {
        "colab": {
          "base_uri": "https://localhost:8080/"
        },
        "id": "b56c50PqObI1",
        "outputId": "939ce0bc-e87f-494a-db6f-ee509b77e119"
      },
      "execution_count": 1,
      "outputs": [
        {
          "output_type": "stream",
          "name": "stdout",
          "text": [
            "{'name': 'Maria', 'age': 39, 'bday': 'April 10, 1983'}\n"
          ]
        }
      ]
    },
    {
      "cell_type": "code",
      "source": [
        "thisdict = {\n",
        "            \"name\": \"Maria\",\n",
        "            \"age\": 39,\n",
        "            \"bday\": \"April 10, 1983\",\n",
        "            \"age\": 40\n",
        "            }\n",
        "print(thisdict)"
      ],
      "metadata": {
        "colab": {
          "base_uri": "https://localhost:8080/"
        },
        "id": "neJ98nKsPR-p",
        "outputId": "82b3b450-4ad6-42b8-f73a-280d7f32372d"
      },
      "execution_count": 3,
      "outputs": [
        {
          "output_type": "stream",
          "name": "stdout",
          "text": [
            "{'name': 'Maria', 'age': 40, 'bday': 'April 10, 1983'}\n"
          ]
        }
      ]
    },
    {
      "cell_type": "code",
      "source": [
        "#Slice() Function\n",
        "\n",
        "a = [\"a\",\"b\",\"c\",'d','e']\n",
        "print(a[0:5:3])\n",
        "\n"
      ],
      "metadata": {
        "colab": {
          "base_uri": "https://localhost:8080/"
        },
        "id": "yvEcj2jLRMTL",
        "outputId": "bf3d7a7f-0059-4327-9c5b-d9e93772506a"
      },
      "execution_count": 11,
      "outputs": [
        {
          "output_type": "stream",
          "name": "stdout",
          "text": [
            "['a', 'd']\n"
          ]
        }
      ]
    }
  ]
}