{
  "nbformat": 4,
  "nbformat_minor": 0,
  "metadata": {
    "colab": {
      "provenance": [],
      "authorship_tag": "ABX9TyM3/GqhXem5QAL6P4h11yuD",
      "include_colab_link": true
    },
    "kernelspec": {
      "name": "python3",
      "display_name": "Python 3"
    },
    "language_info": {
      "name": "python"
    }
  },
  "cells": [
    {
      "cell_type": "markdown",
      "metadata": {
        "id": "view-in-github",
        "colab_type": "text"
      },
      "source": [
        "<a href=\"https://colab.research.google.com/github/mariasayo/CPEN21A-PLD-/blob/main/Object_and_Class.ipynb\" target=\"_parent\"><img src=\"https://colab.research.google.com/assets/colab-badge.svg\" alt=\"Open In Colab\"/></a>"
      ]
    },
    {
      "cell_type": "code",
      "execution_count": 7,
      "metadata": {
        "colab": {
          "base_uri": "https://localhost:8080/"
        },
        "id": "5IAFaVja2adq",
        "outputId": "1379a910-8d69-4d7b-a428-8c631a2f735f"
      },
      "outputs": [
        {
          "output_type": "stream",
          "name": "stdout",
          "text": [
            "My personal info are all here\n"
          ]
        }
      ],
      "source": [
        "class Person:\n",
        "  def __init__(self,name,age,birthdate):       #object and class constructor\n",
        "    self.name = name\n",
        "    self.age = age\n",
        "    self.birthdate = birthdate\n",
        "\n",
        "  def info(self):                 \n",
        "    return \"My personal info are all here\"      #method constructor\n",
        "\n",
        "class Student(Person):                          #inheritance\n",
        "  pass\n",
        "\n",
        "person = Student(\"Ana\", 28,\"January 4, 1996\")     #naming object\n",
        "\n",
        "print(person.info())\n",
        "\n",
        "  "
      ]
    },
    {
      "cell_type": "code",
      "source": [
        "#Exercise 1\n",
        "# Write a Python program that:\n",
        "# Use Shape as parent class, Rectangle as child class with length and width attributes\n",
        "# Use Perimeter() and Area() as methods to compute for the perimeter and area of the rectangle "
      ],
      "metadata": {
        "id": "NL-2PEsaEP-T"
      },
      "execution_count": null,
      "outputs": []
    }
  ]
}